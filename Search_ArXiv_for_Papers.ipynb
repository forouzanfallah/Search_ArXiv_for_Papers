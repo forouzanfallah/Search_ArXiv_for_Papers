{
  "nbformat": 4,
  "nbformat_minor": 0,
  "metadata": {
    "colab": {
      "provenance": [],
      "authorship_tag": "ABX9TyOZN6iR/qbomavKv8Ba4Syo",
      "include_colab_link": true
    },
    "kernelspec": {
      "name": "python3",
      "display_name": "Python 3"
    },
    "language_info": {
      "name": "python"
    }
  },
  "cells": [
    {
      "cell_type": "markdown",
      "metadata": {
        "id": "view-in-github",
        "colab_type": "text"
      },
      "source": [
        "<a href=\"https://colab.research.google.com/github/forouzanfallah/Search_ArXiv_for_Papers/blob/main/Search_ArXiv_for_Papers.ipynb\" target=\"_parent\"><img src=\"https://colab.research.google.com/assets/colab-badge.svg\" alt=\"Open In Colab\"/></a>"
      ]
    },
    {
      "cell_type": "code",
      "source": [
        "pip install arxiv\n"
      ],
      "metadata": {
        "id": "4jNtPP29Ns3R",
        "colab": {
          "base_uri": "https://localhost:8080/"
        },
        "outputId": "71ea7a3b-c0a2-46dc-808a-9ebbd579d2f0"
      },
      "execution_count": 37,
      "outputs": [
        {
          "output_type": "stream",
          "name": "stdout",
          "text": [
            "Requirement already satisfied: arxiv in /usr/local/lib/python3.10/dist-packages (2.1.0)\n",
            "Requirement already satisfied: feedparser==6.0.10 in /usr/local/lib/python3.10/dist-packages (from arxiv) (6.0.10)\n",
            "Requirement already satisfied: requests==2.31.0 in /usr/local/lib/python3.10/dist-packages (from arxiv) (2.31.0)\n",
            "Requirement already satisfied: sgmllib3k in /usr/local/lib/python3.10/dist-packages (from feedparser==6.0.10->arxiv) (1.0.0)\n",
            "Requirement already satisfied: charset-normalizer<4,>=2 in /usr/local/lib/python3.10/dist-packages (from requests==2.31.0->arxiv) (3.3.2)\n",
            "Requirement already satisfied: idna<4,>=2.5 in /usr/local/lib/python3.10/dist-packages (from requests==2.31.0->arxiv) (3.6)\n",
            "Requirement already satisfied: urllib3<3,>=1.21.1 in /usr/local/lib/python3.10/dist-packages (from requests==2.31.0->arxiv) (2.0.7)\n",
            "Requirement already satisfied: certifi>=2017.4.17 in /usr/local/lib/python3.10/dist-packages (from requests==2.31.0->arxiv) (2024.2.2)\n"
          ]
        }
      ]
    },
    {
      "cell_type": "code",
      "source": [
        "import arxiv\n",
        "import datetime\n",
        "\n",
        "class ArxivSearcher:\n",
        "    def __init__(self):\n",
        "        \"\"\"Initialize the arXiv searcher with a client.\"\"\"\n",
        "        self.client = arxiv.Client()\n",
        "\n",
        "    def search(self, keywords, start_date, end_date, max_results=1000):\n",
        "        \"\"\"Search arXiv for papers matching the given keywords within the specified date range,\n",
        "        up to max_results after filtering by date, and include the submission date in the output.\"\"\"\n",
        "\n",
        "        # Format the search query\n",
        "        search_query = ' AND '.join(f'all:\"{keyword}\"' for keyword in keywords)\n",
        "\n",
        "        # Format the dates\n",
        "        start = datetime.datetime.strptime(start_date, '%Y-%m-%d').date()\n",
        "        end = datetime.datetime.strptime(end_date, '%Y-%m-%d').date()\n",
        "\n",
        "        # Initialize an empty list to store filtered results\n",
        "        filtered_results = []\n",
        "\n",
        "        # Assume we fetch more initially to ensure we have enough results to filter through\n",
        "        initial_fetch = 100\n",
        "\n",
        "        # Perform search\n",
        "        search = arxiv.Search(\n",
        "            query=search_query,\n",
        "            max_results=initial_fetch,  # Fetch more results initially\n",
        "            sort_by=arxiv.SortCriterion.SubmittedDate,\n",
        "            sort_order=arxiv.SortOrder.Descending\n",
        "        )\n",
        "\n",
        "        # Fetch results and filter\n",
        "        for result in self.client.results(search):\n",
        "            # Check if the result is within the specified date range\n",
        "            if start <= result.published.date() <= end:\n",
        "                filtered_results.append(result)\n",
        "                # Break if we have enough filtered results\n",
        "                if len(filtered_results) == max_results:\n",
        "                    break\n",
        "\n",
        "        # Display the filtered results\n",
        "        for result in filtered_results:\n",
        "            print(f\"Title: {result.title}\\nLink: {result.entry_id}\\nSubmitted Date: {result.published.strftime('%Y-%m-%d')}\\n\")\n",
        "\n",
        "# Example usage\n",
        "if __name__ == \"__main__\":\n",
        "    searcher = ArxivSearcher()\n",
        "    keywords = ['text', 'diffusion']  # Add your keywords here\n",
        "    start_date = '2024-03-20'  # Start date in YYYY-MM-DD format\n",
        "    end_date = '2024-03-22'  # End date in YYYY-MM-DD format\n",
        "    max_results = 5  # Specify the maximum number of results to return after filtering\n",
        "    searcher.search(keywords, start_date, end_date, max_results)\n"
      ],
      "metadata": {
        "colab": {
          "base_uri": "https://localhost:8080/"
        },
        "id": "wSgG6WwALYXO",
        "outputId": "7cad3aab-64a9-46ca-804e-69c06d0c14af"
      },
      "execution_count": 38,
      "outputs": [
        {
          "output_type": "stream",
          "name": "stdout",
          "text": [
            "Title: GRM: Large Gaussian Reconstruction Model for Efficient 3D Reconstruction and Generation\n",
            "Link: http://arxiv.org/abs/2403.14621v1\n",
            "Submitted Date: 2024-03-21\n",
            "\n",
            "Title: DreamReward: Text-to-3D Generation with Human Preference\n",
            "Link: http://arxiv.org/abs/2403.14613v1\n",
            "Submitted Date: 2024-03-21\n",
            "\n",
            "Title: ReNoise: Real Image Inversion Through Iterative Noising\n",
            "Link: http://arxiv.org/abs/2403.14602v1\n",
            "Submitted Date: 2024-03-21\n",
            "\n",
            "Title: Click to Grasp: Zero-Shot Precise Manipulation via Visual Diffusion Descriptors\n",
            "Link: http://arxiv.org/abs/2403.14526v1\n",
            "Submitted Date: 2024-03-21\n",
            "\n",
            "Title: DP-RDM: Adapting Diffusion Models to Private Domains Without Fine-Tuning\n",
            "Link: http://arxiv.org/abs/2403.14421v1\n",
            "Submitted Date: 2024-03-21\n",
            "\n"
          ]
        }
      ]
    }
  ]
}